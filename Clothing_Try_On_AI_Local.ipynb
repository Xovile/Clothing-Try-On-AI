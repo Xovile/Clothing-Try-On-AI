{
  "cells": [
    {
      "cell_type": "markdown",
      "metadata": {},
      "source": [
        "# Clothing Try-On AI\n",
        "\n",
        "This notebook allows you to try on clothes virtually using an AI model. Follow the instructions in each cell to input your images and see the results.\n"
      ]
    },
    {
      "cell_type": "markdown",
      "metadata": {},
      "source": [
        "# Install necessary dependencies"
      ]
    },
    {
      "cell_type": "code",
      "execution_count": null,
      "metadata": {
        "id": "Ve6F6H8XpBts"
      },
      "outputs": [],
      "source": [
        "!pip install matplotlib opencv-python Pillow"
      ]
    },
    {
      "cell_type": "markdown",
      "metadata": {
        "id": "w3vsE71k9vla"
      },
      "source": [
        "# Removing residues of previous run"
      ]
    },
    {
      "cell_type": "code",
      "execution_count": null,
      "metadata": {
        "colab": {
          "base_uri": "https://localhost:8080/"
        },
        "id": "AKPY8shPx11w",
        "outputId": "6fdb8bdf-2f02-4aec-d6e9-5f39626d248a"
      },
      "outputs": [],
      "source": [
        "import os\n",
        "\n",
        "tryon_dir = './TryOn'\n",
        "\n",
        "residue_files = [\n",
        "    \"data.json\", \n",
        "    \"origin.jpg\", \n",
        "    \"resized_img.jpg\", \n",
        "    \"resized_segmentation_img.png\", \n",
        "    \"resized_segmentation_img_gray.png\", \n",
        "    \"seg_img.png\", \n",
        "    \"HR-VITON-main/test/test/openpose_json/00001_00_keypoints.json\", \n",
        "    \"static/cloth_web.jpg\", \n",
        "    \"static/finalimg.png\", \n",
        "    \"HR-VITON-main/test/test/cloth/00001_00.jpg\", \n",
        "    \"HR-VITON-main/test/test/cloth-mask/00001_00.jpg\", \n",
        "    \"HR-VITON-main/test/test/image/00001_00.jpg\", \n",
        "    \"HR-VITON-main/test/test/image-densepose/00001_00.jpg\", \n",
        "    \"HR-VITON-main/test/test/image-parse-v3/00001_00.png\", \n",
        "    \"HR-VITON-main/Output/00001_00_00001_00.png\"\n",
        "]\n",
        "\n",
        "for file in residue_files:\n",
        "    full_path = os.path.join(tryon_dir, file)\n",
        "    if os.path.exists(full_path):\n",
        "        os.remove(full_path)\n"
      ]
    },
    {
      "cell_type": "markdown",
      "metadata": {
        "id": "0wNgJQj39f4b"
      },
      "source": [
        "# Inputting the cloth image"
      ]
    },
    {
      "cell_type": "code",
      "execution_count": null,
      "metadata": {
        "colab": {
          "background_save": true,
          "base_uri": "https://localhost:8080/"
        },
        "id": "lgcmjo79VlG6",
        "outputId": "f7c8f54a-72de-4261-b130-62a1ce2c49a2"
      },
      "outputs": [],
      "source": [
        "import shutil\n",
        "import os\n",
        "\n",
        "input_dir = './TryOn/static'\n",
        "input_cloth = input(\"Enter the path to the cloth image: \")\n",
        "shutil.copy(input_cloth, os.path.join(input_dir, 'cloth_web.jpg'))"
      ]
    },
    {
      "cell_type": "markdown",
      "metadata": {
        "id": "b4-gaGC29oLl"
      },
      "source": [
        "# Inputting the model image"
      ]
    },
    {
      "cell_type": "code",
      "execution_count": null,
      "metadata": {
        "colab": {
          "base_uri": "https://localhost:8080/"
        },
        "id": "lZR7JV7_qqXP",
        "outputId": "f2b5bcab-341d-409b-d658-aefc24c5de1c"
      },
      "outputs": [],
      "source": [
        "input_origin = input(\"Enter the path to the model image: \")\n",
        "shutil.copy(input_origin, os.path.join(input_dir, 'origin_web.jpg'))"
      ]
    },
    {
      "cell_type": "markdown",
      "metadata": {
        "id": "HxdsbXdi-NJ6"
      },
      "source": [
        "# Previewing the chosen images before running"
      ]
    },
    {
      "cell_type": "code",
      "execution_count": null,
      "metadata": {
        "colab": {
          "base_uri": "https://localhost:8080/",
          "height": 485
        },
        "id": "IUgVQitcs0Vx",
        "outputId": "3d6a1538-333c-4a99-b205-e73accc03607"
      },
      "outputs": [],
      "source": [
        "import cv2\n",
        "import matplotlib.pyplot as plt\n",
        "\n",
        "original = cv2.cvtColor(cv2.imread(\"./TryOn/static/origin_web.jpg\"), cv2.COLOR_BGR2RGB)\n",
        "cloth = cv2.cvtColor(cv2.imread(\"./TryOn/static/cloth_web.jpg\"), cv2.COLOR_BGR2RGB)\n",
        "\n",
        "fig, axes = plt.subplots(nrows=1, ncols=2)\n",
        "plt.subplots_adjust(left=0, right=1, bottom=0, top=1)\n",
        "axes[0].axis('off')\n",
        "axes[0].imshow(original)\n",
        "axes[0].set_title('Model Image')\n",
        "axes[1].axis('off')\n",
        "axes[1].imshow(cloth)\n",
        "axes[1].set_title('Cloth Image')\n",
        "plt.show()"
      ]
    },
    {
      "cell_type": "markdown",
      "metadata": {
        "id": "S_-be8c2-Ust"
      },
      "source": [
        "# Executing the main module"
      ]
    },
    {
      "cell_type": "code",
      "execution_count": null,
      "metadata": {
        "colab": {
          "base_uri": "https://localhost:8080/"
        },
        "id": "OLlPAT0nrh0P",
        "outputId": "4079be15-5b97-4870-c14c-b34a4208fbb3"
      },
      "outputs": [],
      "source": [
        "import os\n",
        "\n",
        "remove_background = input(\"Do you want to remove the background? (True/False): \").lower()\n",
        "if remove_background == 'false':\n",
        "    os.system(\"python ./TryOn/main.py --background False\")\n",
        "else:\n",
        "    os.system(\"python ./TryOn/main.py --background True\")"
      ]
    },
    {
      "cell_type": "markdown",
      "metadata": {
        "id": "5N1YHcAy-Z-L"
      },
      "source": [
        "# Displaying the final output image"
      ]
    },
    {
      "cell_type": "code",
      "execution_count": null,
      "metadata": {
        "colab": {
          "base_uri": "https://localhost:8080/",
          "height": 1000
        },
        "id": "Ojk__QBku3gD",
        "outputId": "5cf71309-5329-47ba-f767-5d8ad402e65a"
      },
      "outputs": [],
      "source": [
        "from PIL import Image\n",
        "\n",
        "final_img_path = \"./TryOn/static/finalimg.png\"\n",
        "if os.path.exists(final_img_path):\n",
        "    image1 = Image.open(final_img_path)\n",
        "    image1.show()\n",
        "else:\n",
        "    print(\"Final image not found. Please check if the script executed successfully.\")"
      ]
    }
  ],
  "metadata": {
    "accelerator": "GPU",
    "colab": {
      "gpuType": "T4",
      "provenance": []
    },
    "kernelspec": {
      "display_name": "Python 3",
      "name": "python3"
    },
    "language_info": {
      "name": "python"
    }
  },
  "nbformat": 4,
  "nbformat_minor": 0
}
